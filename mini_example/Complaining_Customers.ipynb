{
 "cells": [
  {
   "cell_type": "markdown",
   "id": "53233229",
   "metadata": {},
   "source": [
    "## If the below cell doesn't run properly, you need to install all the requirements"
   ]
  },
  {
   "cell_type": "code",
   "execution_count": 4,
   "id": "3c9eae8a",
   "metadata": {},
   "outputs": [],
   "source": [
    "import sklearn\n",
    "from sklearn.tree import DecisionTreeClassifier\n",
    "from sklearn import tree\n",
    "import csv\n",
    "import random\n",
    "from math import trunc\n",
    "import matplotlib.pyplot as plt"
   ]
  },
  {
   "cell_type": "markdown",
   "id": "3ca6114f",
   "metadata": {},
   "source": [
    "\n",
    "### You want to be able to predict a given customer's response based on the current temperature.  \n",
    "\n",
    "### After some initial data wrangling, you create a .csv file with a bunch of responses and temperatures:"
   ]
  },
  {
   "cell_type": "code",
   "execution_count": 25,
   "id": "56ce9bf7",
   "metadata": {},
   "outputs": [
    {
     "data": {
      "text/plain": [
       "[['response', 'temp'],\n",
       " ['too hot', '98'],\n",
       " ['too hot', '94'],\n",
       " ['too cold', '40'],\n",
       " ['too hot', '92'],\n",
       " ['too cold', '64'],\n",
       " ['too hot', '86'],\n",
       " ['too hot', '98'],\n",
       " ['just right', '67'],\n",
       " ['too cold', '50']]"
      ]
     },
     "execution_count": 25,
     "metadata": {},
     "output_type": "execute_result"
    }
   ],
   "source": [
    "with open(\"raw_data.csv\", \"r\") as f:\n",
    "    reader = csv.reader(f)\n",
    "    sample_rows = [row for row in reader][:10]\n",
    "sample_rows\n",
    "    \n",
    "    "
   ]
  },
  {
   "cell_type": "markdown",
   "id": "d32e2ffc",
   "metadata": {},
   "source": [
    "### If you'd like, you can cheat and run the next cell to create your own \"raw data\":"
   ]
  },
  {
   "cell_type": "code",
   "execution_count": 26,
   "id": "7b75c72d",
   "metadata": {},
   "outputs": [],
   "source": [
    "def too_hot(): return {\"response\": \"too hot\", \"temp\": random.randrange(72,100)}\n",
    "def just_right(): return {\"response\": \"just right\", \"temp\": random.randrange(65, 75)}\n",
    "def too_cold(): return {\"response\": \"too cold\", \"temp\": random.randrange(40, 68)}\n",
    "\n",
    "raw = [too_hot() for _ in range(300)] + [just_right() for _ in range(75)] + [too_cold() for _ in range(300)]\n",
    "\n",
    "random.shuffle(raw)\n",
    "random.shuffle(raw)\n",
    "random.shuffle(raw)\n",
    "\n",
    "with open(\"raw_data.csv\", \"w\") as f:\n",
    "    writer = csv.DictWriter(f, fieldnames=[\"response\", \"temp\"])\n",
    "    writer.writeheader()\n",
    "    writer.writerows(raw)\n"
   ]
  },
  {
   "cell_type": "markdown",
   "id": "7f643dd3",
   "metadata": {},
   "source": [
    "### Now that we have our basic dataset, we need to do a little bit of processing to make things easier on our model (the poor thing really only understands numbers...).  Convert the responses to numbers.  This conversion is arbitrary as long as you remember how to convert back (conveniently stored in `output_conversion_dict`).\n"
   ]
  },
  {
   "cell_type": "code",
   "execution_count": 27,
   "id": "85f16ce0",
   "metadata": {},
   "outputs": [],
   "source": [
    "output_conversion_dict = {\n",
    "    1: \"too hot\",\n",
    "    2: \"just right\",\n",
    "    3: \"too cold\"\n",
    "}\n",
    "\n",
    "def convert(row):\n",
    "    if row[\"response\"] == \"too hot\": return [1, int(row[\"temp\"])]\n",
    "    if row[\"response\"] == \"just right\": return [2, int(row[\"temp\"])]\n",
    "    if row[\"response\"] == \"too cold\": return [3, int(row[\"temp\"])]\n",
    "\n",
    "def convert_response_to_int():\n",
    "    with open(\"raw_data.csv\", \"r\") as f:\n",
    "        reader = csv.DictReader(f)\n",
    "        converted = [convert(row) for row in reader]\n",
    "    return converted"
   ]
  },
  {
   "cell_type": "markdown",
   "id": "3f38a3a1",
   "metadata": {},
   "source": [
    "### At this point we have our cleaned and processed data (`prepared_data`).  We now need to do a couple things before we get to the model itself.\n"
   ]
  },
  {
   "cell_type": "code",
   "execution_count": 28,
   "id": "9ad61c6a",
   "metadata": {},
   "outputs": [
    {
     "data": {
      "text/plain": [
       "[[3, 57],\n",
       " [3, 55],\n",
       " [2, 67],\n",
       " [1, 84],\n",
       " [2, 72],\n",
       " [1, 74],\n",
       " [3, 59],\n",
       " [3, 60],\n",
       " [1, 74],\n",
       " [3, 45]]"
      ]
     },
     "execution_count": 28,
     "metadata": {},
     "output_type": "execute_result"
    }
   ],
   "source": [
    "prepared_data = convert_response_to_int()\n",
    "prepared_data[:10]"
   ]
  },
  {
   "cell_type": "markdown",
   "id": "84258171",
   "metadata": {},
   "source": [
    "# Train/Test Split\n",
    "\n",
    "### We want to train our model, but we also want to have an easy way to test it out on data it hasn't seen.  There is a tension here in that we want to give our model as much data as possible so the model represents our problem domain as accurately as possible, but we also want some way to verify that our model actually extends to data that it hasn't seen yet.  For that reason we always split our data into a training set (usually 70-80%) and a test set (usually 20-30%).  This results in `train_samples` and `test_samples` . \n"
   ]
  },
  {
   "cell_type": "code",
   "execution_count": 29,
   "id": "f6a96cbe",
   "metadata": {},
   "outputs": [],
   "source": [
    "def get_train_test_split(samples):\n",
    "    random.shuffle(samples)\n",
    "    num_samples = len(samples)\n",
    "    cutoff_index = trunc(.8 * num_samples)\n",
    "    train_samples = samples[:cutoff_index]\n",
    "    test_samples = samples[cutoff_index:]\n",
    "    return train_samples, test_samples    \n",
    "\n",
    "def get_samples(train_samples, test_samples):\n",
    "    train_X = [[s[1]] for s in train_samples]\n",
    "    train_Y = [s[0] for s in train_samples]\n",
    "    test_x = [[s[1]] for s in test_samples]\n",
    "    test_y = [s[0] for s in test_samples]\n",
    "    return train_X, train_Y, test_x, test_y\n",
    "\n",
    "train_samples, test_samples = get_train_test_split(prepared_data)\n"
   ]
  },
  {
   "cell_type": "markdown",
   "id": "8a55535a",
   "metadata": {},
   "source": [
    "### In addition to that split into training and testing data, we also want to split each division into the input data and the correct outcome.  Confusingly, the convention for input data is `X`, and the corresponding correct outcome is `Y`.  This results in `train_X`, `train_Y`, `test_x`, `test_y` where the \"x\" is the temperature and the \"y\" is the (encoded) customer's response."
   ]
  },
  {
   "cell_type": "code",
   "execution_count": 30,
   "id": "950ff500",
   "metadata": {},
   "outputs": [],
   "source": [
    "train_X, train_Y, test_x, test_y = get_samples(train_samples, test_samples)\n"
   ]
  },
  {
   "cell_type": "markdown",
   "id": "81e753ce",
   "metadata": {},
   "source": [
    "### Now that we have all our data ready to go, let's move on to the easy part.\n"
   ]
  },
  {
   "cell_type": "markdown",
   "id": "05d87b1b",
   "metadata": {},
   "source": [
    "# Training the Model\n",
    "\n",
    "### There are many options for classification models.  You can, and should, play around with several when you are developing an app.  But for now we are going to use the [DecisionTreeClassifier](https://scikit-learn.org/stable/modules/tree.html).  \n",
    "\n",
    "### Hopefully, looking at this snippet from the above documentation helps to justify everything we've just done:"
   ]
  },
  {
   "cell_type": "code",
   "execution_count": 23,
   "id": "10bd7b5f",
   "metadata": {},
   "outputs": [],
   "source": [
    "### Example from the scikit-learn docs ###\n",
    "\n",
    "from sklearn import tree\n",
    "X = [[0, 0], [1, 1]]\n",
    "Y = [0, 1]\n",
    "clf = tree.DecisionTreeClassifier()\n",
    "clf = clf.fit(X, Y)\n"
   ]
  },
  {
   "cell_type": "markdown",
   "id": "3f8112db",
   "metadata": {},
   "source": [
    "### In our case, `X` would be the temperatures (`train_X`):\n"
   ]
  },
  {
   "cell_type": "code",
   "execution_count": 33,
   "id": "fa0d4f62",
   "metadata": {},
   "outputs": [
    {
     "data": {
      "text/plain": [
       "[[55], [54], [93], [73], [51], [99], [77], [69], [82], [91]]"
      ]
     },
     "execution_count": 33,
     "metadata": {},
     "output_type": "execute_result"
    }
   ],
   "source": [
    "train_X[:10]"
   ]
  },
  {
   "cell_type": "markdown",
   "id": "b6aebf13",
   "metadata": {},
   "source": [
    "### and `Y` would be the encoded customer responses (`train_Y`):\n"
   ]
  },
  {
   "cell_type": "code",
   "execution_count": 34,
   "id": "4b96f0c1",
   "metadata": {},
   "outputs": [
    {
     "data": {
      "text/plain": [
       "[3, 3, 1, 2, 3, 1, 1, 2, 1, 1]"
      ]
     },
     "execution_count": 34,
     "metadata": {},
     "output_type": "execute_result"
    }
   ],
   "source": [
    "train_Y[:10]"
   ]
  },
  {
   "cell_type": "markdown",
   "id": "14ee612a",
   "metadata": {},
   "source": [
    "### Notice that the input needs to be a matrix, while the outcomes need to be a flat list.\n",
    "\n",
    "### Let's go ahead and train the model now."
   ]
  },
  {
   "cell_type": "code",
   "execution_count": 35,
   "id": "14a384c7",
   "metadata": {},
   "outputs": [
    {
     "data": {
      "text/html": [
       "<style>#sk-container-id-1 {color: black;background-color: white;}#sk-container-id-1 pre{padding: 0;}#sk-container-id-1 div.sk-toggleable {background-color: white;}#sk-container-id-1 label.sk-toggleable__label {cursor: pointer;display: block;width: 100%;margin-bottom: 0;padding: 0.3em;box-sizing: border-box;text-align: center;}#sk-container-id-1 label.sk-toggleable__label-arrow:before {content: \"▸\";float: left;margin-right: 0.25em;color: #696969;}#sk-container-id-1 label.sk-toggleable__label-arrow:hover:before {color: black;}#sk-container-id-1 div.sk-estimator:hover label.sk-toggleable__label-arrow:before {color: black;}#sk-container-id-1 div.sk-toggleable__content {max-height: 0;max-width: 0;overflow: hidden;text-align: left;background-color: #f0f8ff;}#sk-container-id-1 div.sk-toggleable__content pre {margin: 0.2em;color: black;border-radius: 0.25em;background-color: #f0f8ff;}#sk-container-id-1 input.sk-toggleable__control:checked~div.sk-toggleable__content {max-height: 200px;max-width: 100%;overflow: auto;}#sk-container-id-1 input.sk-toggleable__control:checked~label.sk-toggleable__label-arrow:before {content: \"▾\";}#sk-container-id-1 div.sk-estimator input.sk-toggleable__control:checked~label.sk-toggleable__label {background-color: #d4ebff;}#sk-container-id-1 div.sk-label input.sk-toggleable__control:checked~label.sk-toggleable__label {background-color: #d4ebff;}#sk-container-id-1 input.sk-hidden--visually {border: 0;clip: rect(1px 1px 1px 1px);clip: rect(1px, 1px, 1px, 1px);height: 1px;margin: -1px;overflow: hidden;padding: 0;position: absolute;width: 1px;}#sk-container-id-1 div.sk-estimator {font-family: monospace;background-color: #f0f8ff;border: 1px dotted black;border-radius: 0.25em;box-sizing: border-box;margin-bottom: 0.5em;}#sk-container-id-1 div.sk-estimator:hover {background-color: #d4ebff;}#sk-container-id-1 div.sk-parallel-item::after {content: \"\";width: 100%;border-bottom: 1px solid gray;flex-grow: 1;}#sk-container-id-1 div.sk-label:hover label.sk-toggleable__label {background-color: #d4ebff;}#sk-container-id-1 div.sk-serial::before {content: \"\";position: absolute;border-left: 1px solid gray;box-sizing: border-box;top: 0;bottom: 0;left: 50%;z-index: 0;}#sk-container-id-1 div.sk-serial {display: flex;flex-direction: column;align-items: center;background-color: white;padding-right: 0.2em;padding-left: 0.2em;position: relative;}#sk-container-id-1 div.sk-item {position: relative;z-index: 1;}#sk-container-id-1 div.sk-parallel {display: flex;align-items: stretch;justify-content: center;background-color: white;position: relative;}#sk-container-id-1 div.sk-item::before, #sk-container-id-1 div.sk-parallel-item::before {content: \"\";position: absolute;border-left: 1px solid gray;box-sizing: border-box;top: 0;bottom: 0;left: 50%;z-index: -1;}#sk-container-id-1 div.sk-parallel-item {display: flex;flex-direction: column;z-index: 1;position: relative;background-color: white;}#sk-container-id-1 div.sk-parallel-item:first-child::after {align-self: flex-end;width: 50%;}#sk-container-id-1 div.sk-parallel-item:last-child::after {align-self: flex-start;width: 50%;}#sk-container-id-1 div.sk-parallel-item:only-child::after {width: 0;}#sk-container-id-1 div.sk-dashed-wrapped {border: 1px dashed gray;margin: 0 0.4em 0.5em 0.4em;box-sizing: border-box;padding-bottom: 0.4em;background-color: white;}#sk-container-id-1 div.sk-label label {font-family: monospace;font-weight: bold;display: inline-block;line-height: 1.2em;}#sk-container-id-1 div.sk-label-container {text-align: center;}#sk-container-id-1 div.sk-container {/* jupyter's `normalize.less` sets `[hidden] { display: none; }` but bootstrap.min.css set `[hidden] { display: none !important; }` so we also need the `!important` here to be able to override the default hidden behavior on the sphinx rendered scikit-learn.org. See: https://github.com/scikit-learn/scikit-learn/issues/21755 */display: inline-block !important;position: relative;}#sk-container-id-1 div.sk-text-repr-fallback {display: none;}</style><div id=\"sk-container-id-1\" class=\"sk-top-container\"><div class=\"sk-text-repr-fallback\"><pre>DecisionTreeClassifier()</pre><b>In a Jupyter environment, please rerun this cell to show the HTML representation or trust the notebook. <br />On GitHub, the HTML representation is unable to render, please try loading this page with nbviewer.org.</b></div><div class=\"sk-container\" hidden><div class=\"sk-item\"><div class=\"sk-estimator sk-toggleable\"><input class=\"sk-toggleable__control sk-hidden--visually\" id=\"sk-estimator-id-1\" type=\"checkbox\" checked><label for=\"sk-estimator-id-1\" class=\"sk-toggleable__label sk-toggleable__label-arrow\">DecisionTreeClassifier</label><div class=\"sk-toggleable__content\"><pre>DecisionTreeClassifier()</pre></div></div></div></div></div>"
      ],
      "text/plain": [
       "DecisionTreeClassifier()"
      ]
     },
     "execution_count": 35,
     "metadata": {},
     "output_type": "execute_result"
    }
   ],
   "source": [
    "model = DecisionTreeClassifier()\n",
    "model.fit(train_X, train_Y)\n"
   ]
  },
  {
   "cell_type": "markdown",
   "id": "c0a2d13d",
   "metadata": {},
   "source": [
    "### Now that we have a trained model, we can try it out on out test set to make sure it's working"
   ]
  },
  {
   "cell_type": "code",
   "execution_count": 37,
   "id": "7bbd37e8",
   "metadata": {},
   "outputs": [
    {
     "data": {
      "text/plain": [
       "0.9185185185185185"
      ]
     },
     "execution_count": 37,
     "metadata": {},
     "output_type": "execute_result"
    }
   ],
   "source": [
    "score = model.score(test_x, test_y)\n",
    "score"
   ]
  },
  {
   "cell_type": "markdown",
   "id": "4460e279",
   "metadata": {},
   "source": [
    "### If the accuracy score looks good (and not suspiciously too good), you can try it out on some new data"
   ]
  },
  {
   "cell_type": "code",
   "execution_count": 41,
   "id": "e97fed0d",
   "metadata": {},
   "outputs": [
    {
     "data": {
      "text/plain": [
       "'too hot'"
      ]
     },
     "execution_count": 41,
     "metadata": {},
     "output_type": "execute_result"
    }
   ],
   "source": [
    "new_input = [[105]]\n",
    "model_guess = model.predict(new_input)\n",
    "output_conversion_dict[model_guess[0]]\n"
   ]
  },
  {
   "cell_type": "markdown",
   "id": "6effb3e5",
   "metadata": {},
   "source": [
    "### Don't expect perfection or anything, it's really just a bunch of if statements."
   ]
  },
  {
   "cell_type": "markdown",
   "id": "10b88532",
   "metadata": {},
   "source": [
    "### One nice feature of the DecisionTreeClassifier, is that you can pretty easily see how it works internally:"
   ]
  },
  {
   "cell_type": "code",
   "execution_count": 43,
   "id": "c0940793",
   "metadata": {},
   "outputs": [
    {
     "data": {
      "image/png": "[encoded data removed]",
      "text/plain": [
       "<Figure size 640x480 with 1 Axes>"
      ]
     },
     "metadata": {},
     "output_type": "display_data"
    }
   ],
   "source": [
    "tree.plot_tree(model)\n",
    "plt.show()"
   ]
  },
  {
   "cell_type": "code",
   "execution_count": null,
   "id": "09b949ce",
   "metadata": {},
   "outputs": [],
   "source": []
  }
 ],
 "metadata": {
  "kernelspec": {
   "display_name": "Python 3 (ipykernel)",
   "language": "python",
   "name": "python3"
  },
  "language_info": {
   "codemirror_mode": {
    "name": "ipython",
    "version": 3
   },
   "file_extension": ".py",
   "mimetype": "text/x-python",
   "name": "python",
   "nbconvert_exporter": "python",
   "pygments_lexer": "ipython3",
   "version": "3.9.12"
  }
 },
 "nbformat": 4,
 "nbformat_minor": 5
}
